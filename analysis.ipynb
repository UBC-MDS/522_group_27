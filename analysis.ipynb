{
 "cells": [
  {
   "cell_type": "markdown",
   "id": "5e48bfbf-8945-4f43-b3a2-fb74e453a80d",
   "metadata": {},
   "source": [
    "## Title"
   ]
  },
  {
   "cell_type": "markdown",
   "id": "8d3b40bc-2f5e-4c8f-bd23-5725b46a23d6",
   "metadata": {},
   "source": [
    "## Summary"
   ]
  },
  {
   "cell_type": "markdown",
   "id": "8b09e3b5-e060-4d63-999d-56c1685dcc6c",
   "metadata": {},
   "source": [
    "## Introduction\n",
    "- provide some relevant background information on the topic so that someone unfamiliar with it will be prepared to understand the rest of your report\n",
    "- clearly state the question you tried to answer with your project\n",
    "- identify and describe the dataset that was used to answer the question"
   ]
  },
  {
   "cell_type": "markdown",
   "id": "cae86a7d-1295-4ee7-a7bd-4f29079f7586",
   "metadata": {},
   "source": [
    "## Methods & Results:\n",
    "\n",
    "- describe in written english the methods you used to perform your analysis from beginning to end that narrates the code the does the analysis.\n",
    "- your report should include code which:\n",
    "- loads data from the original source on the web\n",
    "- wrangles and cleans the data from it’s original (downloaded) format to the format necessary for the planned classification or clustering analysis\n",
    "- performs a summary of the data set that is relevant for exploratory data analysis related to the planned classification analysis\n",
    "- creates a visualization of the dataset that is relevant for exploratory data analysis related to the planned classification analysis\n",
    "- performs classification or regression analysis\n",
    "- creates a visualization of the result of the analysis\n",
    "note: all tables and figure should have a figure/table number and a legend"
   ]
  },
  {
   "cell_type": "code",
   "execution_count": 2,
   "id": "21790e83-8a56-4af1-99e9-f71b61f13ef7",
   "metadata": {},
   "outputs": [],
   "source": [
    "## Discussion:"
   ]
  },
  {
   "cell_type": "code",
   "execution_count": null,
   "id": "f75ee92f-e928-4a47-b88a-fe45c57b09e8",
   "metadata": {},
   "outputs": [],
   "source": [
    "## References:"
   ]
  }
 ],
 "metadata": {
  "kernelspec": {
   "display_name": "R",
   "language": "R",
   "name": "ir"
  },
  "language_info": {
   "codemirror_mode": "r",
   "file_extension": ".r",
   "mimetype": "text/x-r-source",
   "name": "R",
   "pygments_lexer": "r",
   "version": "4.2.2"
  }
 },
 "nbformat": 4,
 "nbformat_minor": 5
}
