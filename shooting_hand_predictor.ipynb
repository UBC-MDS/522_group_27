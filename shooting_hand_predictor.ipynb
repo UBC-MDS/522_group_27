{
 "cells": [
  {
   "cell_type": "markdown",
   "id": "2a49a79d-1262-4f2b-bb76-e66d487ad331",
   "metadata": {},
   "source": [
    "# NHL player Shooting Hand Predictor\n",
    "- author: Jay Mangat, Michael Gelfand, Dominic Lam, Yunke Zhang"
   ]
  },
  {
   "cell_type": "code",
   "execution_count": 1,
   "id": "bf2e6a26-2f6a-4393-8bbe-442f19934c84",
   "metadata": {},
   "outputs": [],
   "source": [
    "import pandas as pd\n",
    "import altair as alt\n",
    "from sklearn.model_selection import train_test_split\n",
    "from sklearn.compose import make_column_transformer\n",
    "from sklearn.preprocessing import StandardScaler\n",
    "from sklearn.linear_model import LogisticRegression\n",
    "from sklearn.pipeline import Pipeline, make_pipeline\n",
    "from sklearn.metrics import ConfusionMatrixDisplay "
   ]
  },
  {
   "cell_type": "markdown",
   "id": "29d609e5-74f5-481a-9865-1e819c3fb1af",
   "metadata": {},
   "source": [
    "## Summary\n",
    "Is there a correlation between a National Hockey League (NHL) player's height/weight and their shooting hand? We endeavoured to solve this using a logisitic regression model and a database of NHL players from the 1999 season till the 2023 season. After creating our model, we found there to be a weak correlation between these items as our model scored at 0.51 which is barely better than guessing. "
   ]
  },
  {
   "cell_type": "markdown",
   "id": "890f5be3-b97e-48ca-b907-c56a6dbcbd8b",
   "metadata": {},
   "source": [
    "## Introduction\n",
    "The relationship between a player's various physical attributes can provide valuable insights to their performance within that sport. This report explores whether the shooting hand (left or right) of NHL players can be predicted based on their height and weight. To answer this question we used a logistic regression model. The model estimates the probability that a given height and weight corresponds to whether a player is left handed or right handed.\n",
    "\n",
    "If the report provides a solid analysis, this information could help teams get more right handed shooters as they have a slight advantages over left handed shooters. In this report, we show the acquisition of the data, its preprocessing, creating and training a sklearn logisitic regression model, and our results. By analyzing patterns in the data, we aim to assess the strength of the relationship between a player's height and weight and their preferred shooting hand."
   ]
  },
  {
   "cell_type": "markdown",
   "id": "5e80ca17-a32c-43fc-a13a-f18b1b0c54ea",
   "metadata": {},
   "source": [
    "# Methods\n",
    "\n",
    "## Data\n",
    "\n",
    "The data set for this shot predictor project is of National Hockey League (NHL) roster information created by the Data Science Learning Community (Data Science Learning Community, 2024) for the Tidy Tuesday project repository. The data here was created using the NHL's API and loaded on to the Tidy Tuesday repository [here](https://github.com/rfordatascience/tidytuesday/blob/master/data/2024/2024-01-09/nhl_rosters.csv). Each row in the data set contains information about all hockey players on every team from the 1917-1918 season to the 2023-2024 season. The rows include information such as name, birth date, and body dimensions. \n",
    "\n",
    "## Analysis\n",
    "\n",
    "A logistic regression classifier was used to create a model which will predict whether a hockey player shoots left or right based on their height and weight. As the team is only interested in those two specific columns for predicting shooting side, all other columns were dropped. The test set was created using 30% of the records from the initial data set, leaving 70% of records for model training. For this analysis, the class weight parameter was set to balanced to ensure that the classes are equal and to avoid class imbalance. Data cleanup was done to remove duplicate records and null values and [reprocessing was done on the height and weight input features to standardize them. To perform the analysis, the Python programming language (Python Software Foundation, n.d.) was used along with the following packages: Pandas (The pandas development team, n.d.), Altair (VanderPlas et al., n.d.), and scikit-learn (Pedregosa et al., 2011).\n",
    "\n",
    "# Results\n",
    "\n",
    "Exploratory data analysis was done to visual class distributions for the training data. From this we can see whether there are large class imbalances which could negatively impact the true accuracy of the model."
   ]
  },
  {
   "cell_type": "code",
   "execution_count": 2,
   "id": "13c965cf-3403-451e-9d3f-bb49ded43df2",
   "metadata": {},
   "outputs": [],
   "source": [
    "alt.data_transformers.enable(\"vegafusion\")\n",
    "\n",
    "# Read in dataset from github \n",
    "rosters = pd.read_csv(\"https://raw.githubusercontent.com/rfordatascience/tidytuesday/refs/heads/master/data/2024/2024-01-09/nhl_rosters.csv\")\n",
    "rosters.to_csv('data/nhl_rosters.csv')"
   ]
  },
  {
   "cell_type": "code",
   "execution_count": 3,
   "id": "d266c4a5-67c0-450b-a322-1c01bc703c94",
   "metadata": {},
   "outputs": [],
   "source": [
    "# Data wrangling and cleanup\n",
    "# Drop NA records\n",
    "rosters_clean = rosters[[\"weight_in_kilograms\",\"height_in_centimeters\",\"shoots_catches\"]]\n",
    "rosters_clean = rosters_clean.dropna()\n",
    "\n",
    "# Convert target column to binary with shoots left as 1 and shoots right as 0\n",
    "pd.set_option('future.no_silent_downcasting', True)\n",
    "rosters_clean[\"shoots_left\"] = rosters_clean[\"shoots_catches\"].replace({'L': True, 'R': False}).astype(bool)\n",
    "rosters_clean = rosters_clean.drop(\"shoots_catches\", axis = 1)"
   ]
  },
  {
   "cell_type": "code",
   "execution_count": 4,
   "id": "2b50f030-2c33-48d2-9fa6-0270c1f37fc0",
   "metadata": {},
   "outputs": [],
   "source": [
    "# Split into train and test\n",
    "train_df, test_df = train_test_split(rosters_clean, test_size=0.3, random_state=123)"
   ]
  },
  {
   "cell_type": "code",
   "execution_count": 5,
   "id": "fd7b46cf-ec6b-491f-b759-2cf5b60b4046",
   "metadata": {},
   "outputs": [
    {
     "name": "stdout",
     "output_type": "stream",
     "text": [
      "<class 'pandas.core.frame.DataFrame'>\n",
      "Index: 38200 entries, 22925 to 53045\n",
      "Data columns (total 3 columns):\n",
      " #   Column                 Non-Null Count  Dtype  \n",
      "---  ------                 --------------  -----  \n",
      " 0   weight_in_kilograms    38200 non-null  float64\n",
      " 1   height_in_centimeters  38200 non-null  float64\n",
      " 2   shoots_left            38200 non-null  bool   \n",
      "dtypes: bool(1), float64(2)\n",
      "memory usage: 932.6 KB\n"
     ]
    }
   ],
   "source": [
    "# Examine the data set for exploratory data analysis\n",
    "train_df.info()"
   ]
  },
  {
   "cell_type": "code",
   "execution_count": 6,
   "id": "b3a401df-bf4b-4cb5-a238-3c524e968301",
   "metadata": {},
   "outputs": [
    {
     "data": {
      "text/html": [
       "<div>\n",
       "<style scoped>\n",
       "    .dataframe tbody tr th:only-of-type {\n",
       "        vertical-align: middle;\n",
       "    }\n",
       "\n",
       "    .dataframe tbody tr th {\n",
       "        vertical-align: top;\n",
       "    }\n",
       "\n",
       "    .dataframe thead th {\n",
       "        text-align: right;\n",
       "    }\n",
       "</style>\n",
       "<table border=\"1\" class=\"dataframe\">\n",
       "  <thead>\n",
       "    <tr style=\"text-align: right;\">\n",
       "      <th></th>\n",
       "      <th>weight_in_kilograms</th>\n",
       "      <th>height_in_centimeters</th>\n",
       "    </tr>\n",
       "  </thead>\n",
       "  <tbody>\n",
       "    <tr>\n",
       "      <th>count</th>\n",
       "      <td>38200.000000</td>\n",
       "      <td>38200.000000</td>\n",
       "    </tr>\n",
       "    <tr>\n",
       "      <th>mean</th>\n",
       "      <td>88.651545</td>\n",
       "      <td>183.881806</td>\n",
       "    </tr>\n",
       "    <tr>\n",
       "      <th>std</th>\n",
       "      <td>8.231288</td>\n",
       "      <td>5.917253</td>\n",
       "    </tr>\n",
       "    <tr>\n",
       "      <th>min</th>\n",
       "      <td>57.000000</td>\n",
       "      <td>160.000000</td>\n",
       "    </tr>\n",
       "    <tr>\n",
       "      <th>25%</th>\n",
       "      <td>84.000000</td>\n",
       "      <td>180.000000</td>\n",
       "    </tr>\n",
       "    <tr>\n",
       "      <th>50%</th>\n",
       "      <td>88.000000</td>\n",
       "      <td>183.000000</td>\n",
       "    </tr>\n",
       "    <tr>\n",
       "      <th>75%</th>\n",
       "      <td>94.000000</td>\n",
       "      <td>188.000000</td>\n",
       "    </tr>\n",
       "    <tr>\n",
       "      <th>max</th>\n",
       "      <td>120.000000</td>\n",
       "      <td>206.000000</td>\n",
       "    </tr>\n",
       "  </tbody>\n",
       "</table>\n",
       "</div>"
      ],
      "text/plain": [
       "       weight_in_kilograms  height_in_centimeters\n",
       "count         38200.000000           38200.000000\n",
       "mean             88.651545             183.881806\n",
       "std               8.231288               5.917253\n",
       "min              57.000000             160.000000\n",
       "25%              84.000000             180.000000\n",
       "50%              88.000000             183.000000\n",
       "75%              94.000000             188.000000\n",
       "max             120.000000             206.000000"
      ]
     },
     "execution_count": 6,
     "metadata": {},
     "output_type": "execute_result"
    }
   ],
   "source": [
    "# Get information about numeric features\n",
    "train_df.describe()"
   ]
  },
  {
   "cell_type": "code",
   "execution_count": 7,
   "id": "c9af37fa-6d69-4bf3-b51c-3db9e93c8e7d",
   "metadata": {},
   "outputs": [
    {
     "data": {
      "text/html": [
       "<div>\n",
       "<style scoped>\n",
       "    .dataframe tbody tr th:only-of-type {\n",
       "        vertical-align: middle;\n",
       "    }\n",
       "\n",
       "    .dataframe tbody tr th {\n",
       "        vertical-align: top;\n",
       "    }\n",
       "\n",
       "    .dataframe thead th {\n",
       "        text-align: right;\n",
       "    }\n",
       "</style>\n",
       "<table border=\"1\" class=\"dataframe\">\n",
       "  <thead>\n",
       "    <tr style=\"text-align: right;\">\n",
       "      <th></th>\n",
       "      <th>weight_in_kilograms</th>\n",
       "      <th>height_in_centimeters</th>\n",
       "      <th>shoots_left</th>\n",
       "    </tr>\n",
       "  </thead>\n",
       "  <tbody>\n",
       "    <tr>\n",
       "      <th>22925</th>\n",
       "      <td>87.0</td>\n",
       "      <td>183.0</td>\n",
       "      <td>True</td>\n",
       "    </tr>\n",
       "    <tr>\n",
       "      <th>18712</th>\n",
       "      <td>92.0</td>\n",
       "      <td>188.0</td>\n",
       "      <td>False</td>\n",
       "    </tr>\n",
       "    <tr>\n",
       "      <th>1702</th>\n",
       "      <td>88.0</td>\n",
       "      <td>185.0</td>\n",
       "      <td>True</td>\n",
       "    </tr>\n",
       "    <tr>\n",
       "      <th>8026</th>\n",
       "      <td>84.0</td>\n",
       "      <td>180.0</td>\n",
       "      <td>False</td>\n",
       "    </tr>\n",
       "    <tr>\n",
       "      <th>6122</th>\n",
       "      <td>93.0</td>\n",
       "      <td>188.0</td>\n",
       "      <td>False</td>\n",
       "    </tr>\n",
       "  </tbody>\n",
       "</table>\n",
       "</div>"
      ],
      "text/plain": [
       "       weight_in_kilograms  height_in_centimeters  shoots_left\n",
       "22925                 87.0                  183.0         True\n",
       "18712                 92.0                  188.0        False\n",
       "1702                  88.0                  185.0         True\n",
       "8026                  84.0                  180.0        False\n",
       "6122                  93.0                  188.0        False"
      ]
     },
     "execution_count": 7,
     "metadata": {},
     "output_type": "execute_result"
    }
   ],
   "source": [
    "# View first five records of dataset \n",
    "train_df.head()"
   ]
  },
  {
   "cell_type": "code",
   "execution_count": 29,
   "id": "97831c34-07aa-4a47-ac6d-303546f0c59f",
   "metadata": {},
   "outputs": [
    {
     "data": {
      "text/html": [
       "\n",
       "<style>\n",
       "  #altair-viz-3fbbf565ae174fd3a0a8631e82860669.vega-embed {\n",
       "    width: 100%;\n",
       "    display: flex;\n",
       "  }\n",
       "\n",
       "  #altair-viz-3fbbf565ae174fd3a0a8631e82860669.vega-embed details,\n",
       "  #altair-viz-3fbbf565ae174fd3a0a8631e82860669.vega-embed details summary {\n",
       "    position: relative;\n",
       "  }\n",
       "</style>\n",
       "<div id=\"altair-viz-3fbbf565ae174fd3a0a8631e82860669\"></div>\n",
       "<script type=\"text/javascript\">\n",
       "  var VEGA_DEBUG = (typeof VEGA_DEBUG == \"undefined\") ? {} : VEGA_DEBUG;\n",
       "  (function(spec, embedOpt){\n",
       "    let outputDiv = document.currentScript.previousElementSibling;\n",
       "    if (outputDiv.id !== \"altair-viz-3fbbf565ae174fd3a0a8631e82860669\") {\n",
       "      outputDiv = document.getElementById(\"altair-viz-3fbbf565ae174fd3a0a8631e82860669\");\n",
       "    }\n",
       "    const paths = {\n",
       "      \"vega\": \"https://cdn.jsdelivr.net/npm/vega@5?noext\",\n",
       "      \"vega-lib\": \"https://cdn.jsdelivr.net/npm/vega-lib?noext\",\n",
       "      \"vega-lite\": \"https://cdn.jsdelivr.net/npm/vega-lite@5.20.1?noext\",\n",
       "      \"vega-embed\": \"https://cdn.jsdelivr.net/npm/vega-embed@6?noext\",\n",
       "    };\n",
       "\n",
       "    function maybeLoadScript(lib, version) {\n",
       "      var key = `${lib.replace(\"-\", \"\")}_version`;\n",
       "      return (VEGA_DEBUG[key] == version) ?\n",
       "        Promise.resolve(paths[lib]) :\n",
       "        new Promise(function(resolve, reject) {\n",
       "          var s = document.createElement('script');\n",
       "          document.getElementsByTagName(\"head\")[0].appendChild(s);\n",
       "          s.async = true;\n",
       "          s.onload = () => {\n",
       "            VEGA_DEBUG[key] = version;\n",
       "            return resolve(paths[lib]);\n",
       "          };\n",
       "          s.onerror = () => reject(`Error loading script: ${paths[lib]}`);\n",
       "          s.src = paths[lib];\n",
       "        });\n",
       "    }\n",
       "\n",
       "    function showError(err) {\n",
       "      outputDiv.innerHTML = `<div class=\"error\" style=\"color:red;\">${err}</div>`;\n",
       "      throw err;\n",
       "    }\n",
       "\n",
       "    function displayChart(vegaEmbed) {\n",
       "      vegaEmbed(outputDiv, spec, embedOpt)\n",
       "        .catch(err => showError(`Javascript Error: ${err.message}<br>This usually means there's a typo in your chart specification. See the javascript console for the full traceback.`));\n",
       "    }\n",
       "\n",
       "    if(typeof define === \"function\" && define.amd) {\n",
       "      requirejs.config({paths});\n",
       "      require([\"vega-embed\"], displayChart, err => showError(`Error loading script: ${err.message}`));\n",
       "    } else {\n",
       "      maybeLoadScript(\"vega\", \"5\")\n",
       "        .then(() => maybeLoadScript(\"vega-lite\", \"5.20.1\"))\n",
       "        .then(() => maybeLoadScript(\"vega-embed\", \"6\"))\n",
       "        .catch(showError)\n",
       "        .then(() => displayChart(vegaEmbed));\n",
       "    }\n",
       "  })({\"$schema\": \"https://vega.github.io/schema/vega/v5.json\", \"data\": [{\"name\": \"source_0\"}, {\"name\": \"data_0\", \"values\": [{\"bin_maxbins_10_height_in_centimeters\": 180.0, \"bin_maxbins_10_height_in_centimeters_end\": 185.0, \"shoots_left\": true, \"__count\": 7559, \"__count_start\": 0.0, \"__count_end\": 7559.0}, {\"bin_maxbins_10_height_in_centimeters\": 185.0, \"bin_maxbins_10_height_in_centimeters_end\": 190.0, \"shoots_left\": false, \"__count\": 3965, \"__count_start\": 0.0, \"__count_end\": 3965.0}, {\"bin_maxbins_10_height_in_centimeters\": 185.0, \"bin_maxbins_10_height_in_centimeters_end\": 190.0, \"shoots_left\": true, \"__count\": 8062, \"__count_start\": 0.0, \"__count_end\": 8062.0}, {\"bin_maxbins_10_height_in_centimeters\": 180.0, \"bin_maxbins_10_height_in_centimeters_end\": 185.0, \"shoots_left\": false, \"__count\": 4165, \"__count_start\": 0.0, \"__count_end\": 4165.0}, {\"bin_maxbins_10_height_in_centimeters\": 190.0, \"bin_maxbins_10_height_in_centimeters_end\": 195.0, \"shoots_left\": true, \"__count\": 3675, \"__count_start\": 0.0, \"__count_end\": 3675.0}, {\"bin_maxbins_10_height_in_centimeters\": 175.0, \"bin_maxbins_10_height_in_centimeters_end\": 180.0, \"shoots_left\": true, \"__count\": 3751, \"__count_start\": 0.0, \"__count_end\": 3751.0}, {\"bin_maxbins_10_height_in_centimeters\": 175.0, \"bin_maxbins_10_height_in_centimeters_end\": 180.0, \"shoots_left\": false, \"__count\": 2049, \"__count_start\": 0.0, \"__count_end\": 2049.0}, {\"bin_maxbins_10_height_in_centimeters\": 190.0, \"bin_maxbins_10_height_in_centimeters_end\": 195.0, \"shoots_left\": false, \"__count\": 1775, \"__count_start\": 0.0, \"__count_end\": 1775.0}, {\"bin_maxbins_10_height_in_centimeters\": 170.0, \"bin_maxbins_10_height_in_centimeters_end\": 175.0, \"shoots_left\": true, \"__count\": 1113, \"__count_start\": 0.0, \"__count_end\": 1113.0}, {\"bin_maxbins_10_height_in_centimeters\": 170.0, \"bin_maxbins_10_height_in_centimeters_end\": 175.0, \"shoots_left\": false, \"__count\": 510, \"__count_start\": 0.0, \"__count_end\": 510.0}, {\"bin_maxbins_10_height_in_centimeters\": 200.0, \"bin_maxbins_10_height_in_centimeters_end\": 205.0, \"shoots_left\": true, \"__count\": 89, \"__count_start\": 0.0, \"__count_end\": 89.0}, {\"bin_maxbins_10_height_in_centimeters\": 195.0, \"bin_maxbins_10_height_in_centimeters_end\": 200.0, \"shoots_left\": true, \"__count\": 812, \"__count_start\": 0.0, \"__count_end\": 812.0}, {\"bin_maxbins_10_height_in_centimeters\": 165.0, \"bin_maxbins_10_height_in_centimeters_end\": 170.0, \"shoots_left\": true, \"__count\": 160, \"__count_start\": 0.0, \"__count_end\": 160.0}, {\"bin_maxbins_10_height_in_centimeters\": 195.0, \"bin_maxbins_10_height_in_centimeters_end\": 200.0, \"shoots_left\": false, \"__count\": 342, \"__count_start\": 0.0, \"__count_end\": 342.0}, {\"bin_maxbins_10_height_in_centimeters\": 165.0, \"bin_maxbins_10_height_in_centimeters_end\": 170.0, \"shoots_left\": false, \"__count\": 111, \"__count_start\": 0.0, \"__count_end\": 111.0}, {\"bin_maxbins_10_height_in_centimeters\": 160.0, \"bin_maxbins_10_height_in_centimeters_end\": 165.0, \"shoots_left\": true, \"__count\": 22, \"__count_start\": 0.0, \"__count_end\": 22.0}, {\"bin_maxbins_10_height_in_centimeters\": 200.0, \"bin_maxbins_10_height_in_centimeters_end\": 205.0, \"shoots_left\": false, \"__count\": 23, \"__count_start\": 0.0, \"__count_end\": 23.0}, {\"bin_maxbins_10_height_in_centimeters\": 205.0, \"bin_maxbins_10_height_in_centimeters_end\": 210.0, \"shoots_left\": true, \"__count\": 16, \"__count_start\": 0.0, \"__count_end\": 16.0}, {\"bin_maxbins_10_height_in_centimeters\": 160.0, \"bin_maxbins_10_height_in_centimeters_end\": 165.0, \"shoots_left\": false, \"__count\": 1, \"__count_start\": 0.0, \"__count_end\": 1.0}]}, {\"name\": \"concat_1_facet_domain\"}, {\"name\": \"concat_1_facet_domain_row\", \"values\": [{\"data\": 0.0}]}, {\"name\": \"concat_1_facet_domain_column\", \"values\": [{\"data\": 0.0}, {\"data\": 1.0}]}, {\"name\": \"data_2\", \"values\": [{\"bin_maxbins_10_weight_in_kilograms\": 80.0, \"bin_maxbins_10_weight_in_kilograms_end\": 90.0, \"shoots_left\": true, \"__count\": 10136, \"__count_start\": 0.0, \"__count_end\": 10136.0}, {\"bin_maxbins_10_weight_in_kilograms\": 90.0, \"bin_maxbins_10_weight_in_kilograms_end\": 100.0, \"shoots_left\": false, \"__count\": 4554, \"__count_start\": 0.0, \"__count_end\": 4554.0}, {\"bin_maxbins_10_weight_in_kilograms\": 80.0, \"bin_maxbins_10_weight_in_kilograms_end\": 90.0, \"shoots_left\": false, \"__count\": 5341, \"__count_start\": 0.0, \"__count_end\": 5341.0}, {\"bin_maxbins_10_weight_in_kilograms\": 90.0, \"bin_maxbins_10_weight_in_kilograms_end\": 100.0, \"shoots_left\": true, \"__count\": 9048, \"__count_start\": 0.0, \"__count_end\": 9048.0}, {\"bin_maxbins_10_weight_in_kilograms\": 70.0, \"bin_maxbins_10_weight_in_kilograms_end\": 80.0, \"shoots_left\": true, \"__count\": 3368, \"__count_start\": 0.0, \"__count_end\": 3368.0}, {\"bin_maxbins_10_weight_in_kilograms\": 70.0, \"bin_maxbins_10_weight_in_kilograms_end\": 80.0, \"shoots_left\": false, \"__count\": 1629, \"__count_start\": 0.0, \"__count_end\": 1629.0}, {\"bin_maxbins_10_weight_in_kilograms\": 100.0, \"bin_maxbins_10_weight_in_kilograms_end\": 110.0, \"shoots_left\": true, \"__count\": 2233, \"__count_start\": 0.0, \"__count_end\": 2233.0}, {\"bin_maxbins_10_weight_in_kilograms\": 100.0, \"bin_maxbins_10_weight_in_kilograms_end\": 110.0, \"shoots_left\": false, \"__count\": 1209, \"__count_start\": 0.0, \"__count_end\": 1209.0}, {\"bin_maxbins_10_weight_in_kilograms\": 60.0, \"bin_maxbins_10_weight_in_kilograms_end\": 70.0, \"shoots_left\": true, \"__count\": 259, \"__count_start\": 0.0, \"__count_end\": 259.0}, {\"bin_maxbins_10_weight_in_kilograms\": 110.0, \"bin_maxbins_10_weight_in_kilograms_end\": 120.0, \"shoots_left\": true, \"__count\": 206, \"__count_start\": 0.0, \"__count_end\": 206.0}, {\"bin_maxbins_10_weight_in_kilograms\": 50.0, \"bin_maxbins_10_weight_in_kilograms_end\": 60.0, \"shoots_left\": true, \"__count\": 9, \"__count_start\": 0.0, \"__count_end\": 9.0}, {\"bin_maxbins_10_weight_in_kilograms\": 60.0, \"bin_maxbins_10_weight_in_kilograms_end\": 70.0, \"shoots_left\": false, \"__count\": 148, \"__count_start\": 0.0, \"__count_end\": 148.0}, {\"bin_maxbins_10_weight_in_kilograms\": 110.0, \"bin_maxbins_10_weight_in_kilograms_end\": 120.0, \"shoots_left\": false, \"__count\": 57, \"__count_start\": 0.0, \"__count_end\": 57.0}, {\"bin_maxbins_10_weight_in_kilograms\": 50.0, \"bin_maxbins_10_weight_in_kilograms_end\": 60.0, \"shoots_left\": false, \"__count\": 3, \"__count_start\": 0.0, \"__count_end\": 3.0}]}, {\"name\": \"concat_0_facet_domain\"}, {\"name\": \"concat_0_facet_domain_row\", \"values\": [{\"data\": 0.0}]}, {\"name\": \"concat_0_facet_domain_column\", \"values\": [{\"data\": 0.0}, {\"data\": 1.0}]}, {\"name\": \"data_2_color_domain_shoots_left_0\", \"values\": [{\"shoots_left\": true}, {\"shoots_left\": false}]}, {\"name\": \"data_0_color_domain_shoots_left_1\", \"values\": [{\"shoots_left\": true}, {\"shoots_left\": false}]}], \"signals\": [{\"name\": \"concat_1_child_bin_maxbins_10_height_in_centimeters_bins\", \"value\": {\"fields\": [\"height_in_centimeters\"], \"fname\": \"bin_height_in_centimeters\", \"start\": 160.0, \"step\": 5.0, \"stop\": 210.0}}, {\"name\": \"concat_0_child_bin_maxbins_10_weight_in_kilograms_bins\", \"value\": {\"fields\": [\"weight_in_kilograms\"], \"fname\": \"bin_weight_in_kilograms\", \"start\": 50.0, \"step\": 10.0, \"stop\": 120.0}}, {\"name\": \"concat_0_child_width\", \"value\": 300}, {\"name\": \"concat_0_child_height\", \"value\": 300}, {\"name\": \"concat_1_child_width\", \"value\": 300}, {\"name\": \"concat_1_child_height\", \"value\": 300}], \"marks\": [{\"type\": \"group\", \"name\": \"concat_0_group\", \"marks\": [{\"type\": \"group\", \"name\": \"facet-title\", \"title\": {\"text\": \"shoots_left\", \"offset\": 10, \"style\": \"guide-title\"}, \"role\": \"column-title\"}, {\"type\": \"group\", \"name\": \"concat_0_row_header\", \"from\": {\"data\": \"concat_0_facet_domain_row\"}, \"encode\": {\"update\": {\"height\": {\"signal\": \"concat_0_child_height\"}}}, \"axes\": [{\"scale\": \"concat_0_y\", \"tickCount\": {\"signal\": \"ceil(concat_0_child_height/40)\"}, \"title\": \"Number of Players\", \"labelOverlap\": true, \"orient\": \"left\", \"zindex\": 0, \"grid\": false}], \"role\": \"row-header\"}, {\"type\": \"group\", \"name\": \"concat_0_column_footer\", \"from\": {\"data\": \"concat_0_facet_domain_column\"}, \"encode\": {\"update\": {\"width\": {\"signal\": \"concat_0_child_width\"}}}, \"axes\": [{\"scale\": \"concat_0_x\", \"grid\": false, \"title\": \"Weight (kg)\", \"labelFlush\": true, \"labelOverlap\": true, \"orient\": \"bottom\", \"tickCount\": {\"signal\": \"ceil(concat_0_child_width/10)\"}, \"zindex\": 0}], \"role\": \"column-footer\"}, {\"type\": \"group\", \"name\": \"concat_0_cell\", \"from\": {\"facet\": {\"data\": \"data_2\", \"name\": \"concat_0_facet\", \"groupby\": [\"shoots_left\"]}}, \"sort\": {\"field\": [\"datum[\\\"shoots_left\\\"]\"], \"order\": [\"ascending\"]}, \"encode\": {\"update\": {\"width\": {\"signal\": \"concat_0_child_width\"}, \"height\": {\"signal\": \"concat_0_child_height\"}}}, \"marks\": [{\"type\": \"rect\", \"name\": \"concat_0_child_marks\", \"from\": {\"data\": \"concat_0_facet\"}, \"encode\": {\"update\": {\"y\": {\"field\": \"__count_end\", \"scale\": \"concat_0_y\"}, \"y2\": {\"field\": \"__count_start\", \"scale\": \"concat_0_y\"}, \"fill\": {\"field\": \"shoots_left\", \"scale\": \"color\"}, \"x2\": {\"field\": \"bin_maxbins_10_weight_in_kilograms\", \"scale\": \"concat_0_x\", \"offset\": {\"signal\": \"0.5 + (abs(scale(\\\"concat_0_x\\\", datum[\\\"bin_maxbins_10_weight_in_kilograms_end\\\"]) - scale(\\\"concat_0_x\\\", datum[\\\"bin_maxbins_10_weight_in_kilograms\\\"])) < 0.25 ? -0.5 * (0.25 - (abs(scale(\\\"concat_0_x\\\", datum[\\\"bin_maxbins_10_weight_in_kilograms_end\\\"]) - scale(\\\"concat_0_x\\\", datum[\\\"bin_maxbins_10_weight_in_kilograms\\\"])))) : 0.5)\"}}, \"x\": {\"field\": \"bin_maxbins_10_weight_in_kilograms_end\", \"scale\": \"concat_0_x\", \"offset\": {\"signal\": \"0.5 + (abs(scale(\\\"concat_0_x\\\", datum[\\\"bin_maxbins_10_weight_in_kilograms_end\\\"]) - scale(\\\"concat_0_x\\\", datum[\\\"bin_maxbins_10_weight_in_kilograms\\\"])) < 0.25 ? 0.5 * (0.25 - (abs(scale(\\\"concat_0_x\\\", datum[\\\"bin_maxbins_10_weight_in_kilograms_end\\\"]) - scale(\\\"concat_0_x\\\", datum[\\\"bin_maxbins_10_weight_in_kilograms\\\"])))) : -0.5)\"}}}}, \"style\": [\"bar\"]}], \"axes\": [{\"scale\": \"concat_0_y\", \"aria\": false, \"zindex\": 0, \"ticks\": false, \"grid\": true, \"domain\": false, \"maxExtent\": 0, \"labels\": false, \"tickCount\": {\"signal\": \"ceil(concat_0_child_height/40)\"}, \"orient\": \"left\", \"gridScale\": \"concat_0_x\", \"minExtent\": 0}], \"title\": {\"text\": {\"signal\": \"isValid(parent[\\\"shoots_left\\\"]) ? parent[\\\"shoots_left\\\"] : \\\"\\\"+parent[\\\"shoots_left\\\"]\"}, \"style\": \"guide-label\", \"frame\": \"group\", \"offset\": 10}, \"style\": \"cell\"}], \"title\": {\"text\": \"Distribution of Player Weight by Shooting Hand\", \"anchor\": \"start\"}, \"layout\": {\"padding\": 20, \"bounds\": \"full\", \"align\": \"all\"}}, {\"type\": \"group\", \"name\": \"concat_1_group\", \"marks\": [{\"type\": \"group\", \"name\": \"facet-title\", \"title\": {\"text\": \"shoots_left\", \"offset\": 10, \"style\": \"guide-title\"}, \"role\": \"column-title\"}, {\"type\": \"group\", \"name\": \"concat_1_row_header\", \"from\": {\"data\": \"concat_1_facet_domain_row\"}, \"encode\": {\"update\": {\"height\": {\"signal\": \"concat_1_child_height\"}}}, \"axes\": [{\"scale\": \"concat_1_y\", \"labelOverlap\": true, \"title\": \"Number of Players\", \"orient\": \"left\", \"grid\": false, \"tickCount\": {\"signal\": \"ceil(concat_1_child_height/40)\"}, \"zindex\": 0}], \"role\": \"row-header\"}, {\"type\": \"group\", \"name\": \"concat_1_column_footer\", \"from\": {\"data\": \"concat_1_facet_domain_column\"}, \"encode\": {\"update\": {\"width\": {\"signal\": \"concat_1_child_width\"}}}, \"axes\": [{\"scale\": \"concat_1_x\", \"labelFlush\": true, \"grid\": false, \"orient\": \"bottom\", \"labelOverlap\": true, \"tickCount\": {\"signal\": \"ceil(concat_1_child_width/10)\"}, \"zindex\": 0, \"title\": \"Height (cm)\"}], \"role\": \"column-footer\"}, {\"type\": \"group\", \"name\": \"concat_1_cell\", \"from\": {\"facet\": {\"data\": \"data_0\", \"name\": \"concat_1_facet\", \"groupby\": [\"shoots_left\"]}}, \"sort\": {\"field\": [\"datum[\\\"shoots_left\\\"]\"], \"order\": [\"ascending\"]}, \"encode\": {\"update\": {\"width\": {\"signal\": \"concat_1_child_width\"}, \"height\": {\"signal\": \"concat_1_child_height\"}}}, \"marks\": [{\"type\": \"rect\", \"name\": \"concat_1_child_marks\", \"from\": {\"data\": \"concat_1_facet\"}, \"encode\": {\"update\": {\"x2\": {\"field\": \"bin_maxbins_10_height_in_centimeters\", \"scale\": \"concat_1_x\", \"offset\": {\"signal\": \"0.5 + (abs(scale(\\\"concat_1_x\\\", datum[\\\"bin_maxbins_10_height_in_centimeters_end\\\"]) - scale(\\\"concat_1_x\\\", datum[\\\"bin_maxbins_10_height_in_centimeters\\\"])) < 0.25 ? -0.5 * (0.25 - (abs(scale(\\\"concat_1_x\\\", datum[\\\"bin_maxbins_10_height_in_centimeters_end\\\"]) - scale(\\\"concat_1_x\\\", datum[\\\"bin_maxbins_10_height_in_centimeters\\\"])))) : 0.5)\"}}, \"fill\": {\"field\": \"shoots_left\", \"scale\": \"color\"}, \"y\": {\"field\": \"__count_end\", \"scale\": \"concat_1_y\"}, \"x\": {\"field\": \"bin_maxbins_10_height_in_centimeters_end\", \"scale\": \"concat_1_x\", \"offset\": {\"signal\": \"0.5 + (abs(scale(\\\"concat_1_x\\\", datum[\\\"bin_maxbins_10_height_in_centimeters_end\\\"]) - scale(\\\"concat_1_x\\\", datum[\\\"bin_maxbins_10_height_in_centimeters\\\"])) < 0.25 ? 0.5 * (0.25 - (abs(scale(\\\"concat_1_x\\\", datum[\\\"bin_maxbins_10_height_in_centimeters_end\\\"]) - scale(\\\"concat_1_x\\\", datum[\\\"bin_maxbins_10_height_in_centimeters\\\"])))) : -0.5)\"}}, \"y2\": {\"field\": \"__count_start\", \"scale\": \"concat_1_y\"}}}, \"style\": [\"bar\"]}], \"axes\": [{\"scale\": \"concat_1_y\", \"maxExtent\": 0, \"domain\": false, \"tickCount\": {\"signal\": \"ceil(concat_1_child_height/40)\"}, \"gridScale\": \"concat_1_x\", \"labels\": false, \"minExtent\": 0, \"grid\": true, \"orient\": \"left\", \"ticks\": false, \"zindex\": 0, \"aria\": false}], \"title\": {\"text\": {\"signal\": \"isValid(parent[\\\"shoots_left\\\"]) ? parent[\\\"shoots_left\\\"] : \\\"\\\"+parent[\\\"shoots_left\\\"]\"}, \"frame\": \"group\", \"offset\": 10, \"style\": \"guide-label\"}, \"style\": \"cell\"}], \"title\": {\"text\": \"Distribution of Player Height by Shooting Hand\", \"anchor\": \"start\"}, \"layout\": {\"padding\": 20, \"bounds\": \"full\", \"align\": \"all\"}}], \"scales\": [{\"name\": \"color\", \"type\": \"ordinal\", \"domain\": {\"fields\": [{\"data\": \"data_2_color_domain_shoots_left_0\", \"field\": \"shoots_left\"}, {\"data\": \"data_0_color_domain_shoots_left_1\", \"field\": \"shoots_left\"}], \"sort\": true}, \"range\": \"category\"}, {\"name\": \"concat_0_x\", \"type\": \"linear\", \"domain\": {\"signal\": \"[concat_0_child_bin_maxbins_10_weight_in_kilograms_bins.start, concat_0_child_bin_maxbins_10_weight_in_kilograms_bins.stop]\"}, \"range\": [0, {\"signal\": \"concat_0_child_width\"}], \"bins\": {\"signal\": \"concat_0_child_bin_maxbins_10_weight_in_kilograms_bins\"}, \"zero\": false}, {\"name\": \"concat_0_y\", \"type\": \"linear\", \"domain\": {\"data\": \"data_2\", \"fields\": [\"__count_start\", \"__count_end\"]}, \"range\": [{\"signal\": \"concat_0_child_height\"}, 0], \"nice\": true, \"zero\": true}, {\"name\": \"concat_1_x\", \"type\": \"linear\", \"domain\": {\"signal\": \"[concat_1_child_bin_maxbins_10_height_in_centimeters_bins.start, concat_1_child_bin_maxbins_10_height_in_centimeters_bins.stop]\"}, \"range\": [0, {\"signal\": \"concat_1_child_width\"}], \"bins\": {\"signal\": \"concat_1_child_bin_maxbins_10_height_in_centimeters_bins\"}, \"zero\": false}, {\"name\": \"concat_1_y\", \"type\": \"linear\", \"domain\": {\"data\": \"data_0\", \"fields\": [\"__count_start\", \"__count_end\"]}, \"range\": [{\"signal\": \"concat_1_child_height\"}, 0], \"zero\": true, \"nice\": true}], \"padding\": 5, \"layout\": {\"padding\": 20, \"columns\": 1, \"bounds\": \"full\", \"align\": \"each\"}, \"legends\": [{\"title\": \"Shooting Hand), Shooting Hand (Left = 1, Right = 0)\", \"fill\": \"color\", \"symbolType\": \"square\"}], \"background\": \"white\"}, {\"mode\": \"vega\"});\n",
       "</script>"
      ],
      "text/plain": [
       "alt.VConcatChart(...)"
      ]
     },
     "execution_count": 29,
     "metadata": {},
     "output_type": "execute_result"
    }
   ],
   "source": [
    "# Perform exploratory data analysis\n",
    "# alt.Chart(train_df).mark_bar().encode(\n",
    "#     alt.X(alt.repeat(\"row\")).type('quantitative').bin(),\n",
    "#     alt.Y(\"count()\"),\n",
    "#     alt.Fill(\"shoots_left\")\n",
    "# ).facet(\n",
    "#     \"shoots_left\",\n",
    "# ).repeat(\n",
    "#     row=['weight_in_kilograms', 'height_in_centimeters'],\n",
    "# )\n",
    "\n",
    "# Weight distribution bar chart\n",
    "weight_chart = alt.Chart(train_df).mark_bar().encode(\n",
    "    alt.X(\"weight_in_kilograms:Q\", title=\"Weight (kg)\").bin(),\n",
    "    alt.Y(\"count()\", title=\"Number of Players\"),\n",
    "    alt.Color(\"shoots_left\", title=\"Shooting Hand)\")\n",
    ").facet(\n",
    "    \"shoots_left\",\n",
    ").properties(\n",
    "    title=\"Distribution of Player Weight by Shooting Hand\"\n",
    ")\n",
    "\n",
    "# Height distribution bar chart\n",
    "height_chart = alt.Chart(train_df).mark_bar().encode(\n",
    "    alt.X(\"height_in_centimeters:Q\", title=\"Height (cm)\").bin(),\n",
    "    alt.Y(\"count()\", title=\"Number of Players\"),\n",
    "    alt.Color(\"shoots_left\", title=\"Shooting Hand (Left = 1, Right = 0)\")\n",
    ").facet(\n",
    "    \"shoots_left\",\n",
    ").properties(\n",
    "    title=\"Distribution of Player Height by Shooting Hand\"\n",
    ")\n",
    "\n",
    "combined_chart = alt.vconcat(weight_chart, height_chart)\n",
    "combined_chart"
   ]
  },
  {
   "cell_type": "markdown",
   "id": "50e56daf-31ce-42a1-89bf-2636e2a50c64",
   "metadata": {},
   "source": [
    "Figure 1. Comparison of count distributions of input features for players that shoot left or right."
   ]
  },
  {
   "cell_type": "code",
   "execution_count": 9,
   "id": "b9e7e085-5fb4-48a7-a7ec-d1d0c79e1a1d",
   "metadata": {},
   "outputs": [],
   "source": [
    "# Lists of feature names\n",
    "numeric_features = [\"weight_in_kilograms\",\"height_in_centimeters\"]\n",
    "\n",
    "# Create the column transformer\n",
    "preprocessor = make_column_transformer(\n",
    "    (StandardScaler(), numeric_features),  # scaling on numeric features\n",
    ")"
   ]
  },
  {
   "cell_type": "code",
   "execution_count": 10,
   "id": "1b4d0a8c-a2f5-441c-97c9-9de1a09afc53",
   "metadata": {},
   "outputs": [],
   "source": [
    "# Create X and y data frames for train and test data\n",
    "X_train = train_df.drop(columns=[\"shoots_left\"])\n",
    "X_test = test_df.drop(columns=[\"shoots_left\"])\n",
    "y_train = train_df[\"shoots_left\"]\n",
    "y_test = test_df[\"shoots_left\"]"
   ]
  },
  {
   "cell_type": "code",
   "execution_count": 11,
   "id": "8dd792bc-c51c-496c-8146-f8c9b8e76fea",
   "metadata": {},
   "outputs": [],
   "source": [
    "# Create the logistic regression model pipeline and fit on the training data\n",
    "logreg = make_pipeline(preprocessor, LogisticRegression(random_state=123, class_weight=\"balanced\"))\n",
    "logreg.fit(X_train, y_train);"
   ]
  },
  {
   "cell_type": "code",
   "execution_count": 12,
   "id": "40aa2efa-5612-45be-a8ab-555814c3e267",
   "metadata": {},
   "outputs": [
    {
     "data": {
      "text/plain": [
       "0.5155753725873442"
      ]
     },
     "execution_count": 12,
     "metadata": {},
     "output_type": "execute_result"
    }
   ],
   "source": [
    "# Score the logistic regression model on the test data\n",
    "logreg.score(X_test, y_test)"
   ]
  },
  {
   "cell_type": "code",
   "execution_count": 18,
   "id": "2eaee1b9-a071-40f0-b0fe-a005bde55000",
   "metadata": {},
   "outputs": [
    {
     "data": {
      "image/png": "[encoded data removed]",
      "text/plain": [
       "<Figure size 640x480 with 2 Axes>"
      ]
     },
     "metadata": {},
     "output_type": "display_data"
    }
   ],
   "source": [
    "# Display confusion matrix for model performance on test set\n",
    "cm = ConfusionMatrixDisplay.from_estimator(\n",
    "    logreg,\n",
    "    X_test,\n",
    "    y_test,\n",
    "    values_format=\"d\",\n",
    ")\n",
    "\n",
    "# Modify tick labels\n",
    "cm.ax_.set_xticklabels([\"Shoots Right\", \"Shoots Left\"])\n",
    "cm.ax_.set_yticklabels([\"Shoots Right\", \"Shoots Left\"])\n",
    "\n",
    "# Add a title and axis labels\n",
    "cm.ax_.set_title(\"Confusion Matrix for Shooting Hand Prediction\")\n",
    "cm.ax_.set_xlabel(\"Predicted Class\")\n",
    "cm.ax_.set_ylabel(\"Actual Class\")\n",
    "\n",
    "# Display the plot\n",
    "cm.figure_.tight_layout()  "
   ]
  },
  {
   "cell_type": "markdown",
   "id": "85ff392c-0048-4398-9e71-1d6b44181cb2",
   "metadata": {},
   "source": [
    "Figure 2. Confusion matrix for model performance on test set"
   ]
  },
  {
   "cell_type": "markdown",
   "id": "f0eca319-e5cd-45b6-be67-89629a183d98",
   "metadata": {},
   "source": [
    "# Discussion\n",
    "\n",
    "###  What we found?  \n",
    "The logistic regression model yielded a weak correlation between an NHL player’s height and weight and their shooting hand. The model’s accuracy score on the test set was 0.51, barely above random guessing.  \n",
    "\n",
    "### Is this what we expected to find?  \n",
    "Given the complexity of human physical attributes and their possible influences on preferences, it was somewhat expected that height and weight alone would not be strong predictors of shooting hand. Shooting hand preference could be influenced by various factors, such as handedness, training, or cultural norms, which are not captured by the dataset.\n",
    "\n",
    "### What impact could such findings have?  \n",
    "These findings suggest that physical attributes like height and weight are not sufficient for predicting shooting hand. This highlights the importance of exploring additional features such as handedness, training history, or team strategy. For NHL teams, relying solely on height and weight for such predictions would not be effective for player scouting or strategy optimization.\n",
    "\n",
    "### What future questions could this lead to?  \n",
    "- What additional features (e.g., handedness, practice hours, family handedness trends) could improve the prediction of shooting hand?  \n",
    "- How do environmental or cultural factors influence shooting hand preference?  \n",
    "- Are there relationships between shooting hand and performance metrics, such as goals scored or defensive success?  \n",
    "- Can machine learning models combining multiple physical and behavioral attributes provide better predictions?  "
   ]
  },
  {
   "cell_type": "markdown",
   "id": "05fa58b4-219f-45bc-82ec-14378beae82b",
   "metadata": {},
   "source": [
    "# References\n",
    "\n",
    "Data Science Learning Community. (2024). NHL rosters dataset. Tidy Tuesday project repository. https://github.com/rfordatascience/tidytuesday/blob/master/data/2024/2024-01-09/nhl_rosters.csv\n",
    "\n",
    "Python Software Foundation. (n.d.). Python programming language. https://www.python.org/\n",
    "\n",
    "The pandas development team. (n.d.). Pandas: Powerful Python data analysis toolkit. https://pandas.pydata.org/\n",
    "\n",
    "VanderPlas, J., et al. (n.d.). Altair: Declarative statistical visualization library for Python. https://altair-viz.github.io/\n",
    "\n",
    "Pedregosa, F., Varoquaux, G., Gramfort, A., Michel, V., Thirion, B., Grisel, O., Blondel, M., Prettenhofer, P., Weiss, R., Dubourg, V., Vanderplas, J., Passos, A., Cournapeau, D., Brucher, M., Perrot, M., & Duchesnay, E. (2011). Scikit-learn: Machine learning in Python. Journal of Machine Learning Research, 12, 2825–2830. https://www.jmlr.org/papers/volume12/pedregosa11a/pedregosa11a.pdf"
   ]
  }
 ],
 "metadata": {
  "kernelspec": {
   "display_name": "Python [conda env:573]",
   "language": "python",
   "name": "conda-env-573-py"
  },
  "language_info": {
   "codemirror_mode": {
    "name": "ipython",
    "version": 3
   },
   "file_extension": ".py",
   "mimetype": "text/x-python",
   "name": "python",
   "nbconvert_exporter": "python",
   "pygments_lexer": "ipython3",
   "version": "3.12.7"
  }
 },
 "nbformat": 4,
 "nbformat_minor": 5
}
