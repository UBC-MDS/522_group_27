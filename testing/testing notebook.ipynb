{
 "cells": [
  {
   "cell_type": "code",
   "execution_count": 1,
   "id": "bf2e6a26-2f6a-4393-8bbe-442f19934c84",
   "metadata": {},
   "outputs": [],
   "source": [
    "import pandas as pd"
   ]
  },
  {
   "cell_type": "code",
   "execution_count": 19,
   "id": "13c965cf-3403-451e-9d3f-bb49ded43df2",
   "metadata": {},
   "outputs": [
    {
     "data": {
      "text/plain": [
       "BusinessType\n",
       "Long-term Rental                          14073\n",
       "Health Care Professionals and Services     5148\n",
       "General Contractor                         4701\n",
       "Short-term Rental Operator                 4450\n",
       "Retail Dealer                              2940\n",
       "                                          ...  \n",
       "Marine Service Station                        2\n",
       "Exhibition Centre                             2\n",
       "Urban Farm Class B                            2\n",
       "Amusement Park                                1\n",
       "Oil Gas and Other Fuels                       1\n",
       "Name: count, Length: 93, dtype: int64"
      ]
     },
     "execution_count": 19,
     "metadata": {},
     "output_type": "execute_result"
    }
   ],
   "source": [
    "df = pd.read_csv(\"../data/business-licences.csv\", sep=';')\n",
    "df = df[['BusinessType','LocalArea']]\n",
    "df['BusinessType'].value_counts()"
   ]
  },
  {
   "cell_type": "code",
   "execution_count": null,
   "id": "a0eba5c6-9ad7-46ff-bf65-83f11043c44c",
   "metadata": {},
   "outputs": [],
   "source": []
  }
 ],
 "metadata": {
  "kernelspec": {
   "display_name": "Python [conda env:base]",
   "language": "python",
   "name": "conda-base-py"
  },
  "language_info": {
   "codemirror_mode": {
    "name": "ipython",
    "version": 3
   },
   "file_extension": ".py",
   "mimetype": "text/x-python",
   "name": "python",
   "nbconvert_exporter": "python",
   "pygments_lexer": "ipython3",
   "version": "3.11.9"
  }
 },
 "nbformat": 4,
 "nbformat_minor": 5
}
